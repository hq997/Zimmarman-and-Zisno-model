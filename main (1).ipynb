{
 "cells": [
  {
   "cell_type": "code",
   "execution_count": 5,
   "metadata": {},
   "outputs": [],
   "source": [
    "import numpy as np"
   ]
  },
  {
   "cell_type": "code",
   "execution_count": 15,
   "metadata": {},
   "outputs": [],
   "source": [
    "def getLabels(X, T):\n",
    "    return (T < X).astype(int)\n",
    "    \n",
    "def calculateCenters(X, Y):\n",
    "    c1 = X[Y == 0].mean()\n",
    "    c2 = X[Y == 1].mean()\n",
    "\n",
    "    return c1, c2\n",
    "\n",
    "def calculateMembership(X, c1, c2):\n",
    "    m1 = 1 / (1 + np.abs(X-c1))\n",
    "    m2 = 1 / (1 + np.abs(X-c2))\n",
    "\n",
    "    return (m1 < m2).astype(int)\n"
   ]
  },
  {
   "cell_type": "code",
   "execution_count": 16,
   "metadata": {},
   "outputs": [],
   "source": [
    "T = 50\n",
    "X = np.array([\n",
    "    [12, 8 , 10, 12, 112, 114, 123, 126], \n",
    "    [14, 9 , 11, 13, 98 , 102, 104, 117], \n",
    "    [15, 12, 13, 16, 96 , 93 , 101, 106], \n",
    "    [16, 14, 14, 18, 99 , 84 , 103, 102], \n",
    "    [19, 13, 17, 17, 101, 94 , 88 , 97 ]\n",
    "])"
   ]
  },
  {
   "cell_type": "code",
   "execution_count": 17,
   "metadata": {},
   "outputs": [
    {
     "data": {
      "text/plain": [
       "array([[0, 0, 0, 0, 1, 1, 1, 1],\n",
       "       [0, 0, 0, 0, 1, 1, 1, 1],\n",
       "       [0, 0, 0, 0, 1, 1, 1, 1],\n",
       "       [0, 0, 0, 0, 1, 1, 1, 1],\n",
       "       [0, 0, 0, 0, 1, 1, 1, 1]])"
      ]
     },
     "execution_count": 17,
     "metadata": {},
     "output_type": "execute_result"
    }
   ],
   "source": [
    "Y = getLabels(X, T)\n",
    "Y"
   ]
  },
  {
   "cell_type": "code",
   "execution_count": 18,
   "metadata": {},
   "outputs": [
    {
     "data": {
      "text/plain": [
       "(13.65, 103.0)"
      ]
     },
     "execution_count": 18,
     "metadata": {},
     "output_type": "execute_result"
    }
   ],
   "source": [
    "c1, c2 = calculateCenters(X, Y)\n",
    "c1, c2"
   ]
  },
  {
   "cell_type": "code",
   "execution_count": 19,
   "metadata": {},
   "outputs": [
    {
     "data": {
      "text/plain": [
       "array([[0, 0, 0, 0, 1, 1, 1, 1],\n",
       "       [0, 0, 0, 0, 1, 1, 1, 1],\n",
       "       [0, 0, 0, 0, 1, 1, 1, 1],\n",
       "       [0, 0, 0, 0, 1, 1, 1, 1],\n",
       "       [0, 0, 0, 0, 1, 1, 1, 1]])"
      ]
     },
     "execution_count": 19,
     "metadata": {},
     "output_type": "execute_result"
    }
   ],
   "source": [
    "P = calculateMembership(X, c1, c2)\n",
    "P"
   ]
  },
  {
   "cell_type": "code",
   "execution_count": null,
   "metadata": {},
   "outputs": [],
   "source": []
  }
 ],
 "metadata": {
  "interpreter": {
   "hash": "3d597f4c481aa0f25dceb95d2a0067e73c0966dcbd003d741d821a7208527ecf"
  },
  "kernelspec": {
   "display_name": "Python 3.8.10 ('base')",
   "language": "python",
   "name": "python3"
  },
  "language_info": {
   "name": "python",
   "version": "3.8.10"
  },
  "orig_nbformat": 4
 },
 "nbformat": 4,
 "nbformat_minor": 2
}
